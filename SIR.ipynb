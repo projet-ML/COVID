{
  "nbformat": 4,
  "nbformat_minor": 0,
  "metadata": {
    "colab": {
      "name": "SIR.ipynb",
      "provenance": [],
      "collapsed_sections": [],
      "authorship_tag": "ABX9TyMV/XvpjcLHzEX/FhkFgjT2",
      "include_colab_link": true
    },
    "kernelspec": {
      "name": "python3",
      "display_name": "Python 3"
    }
  },
  "cells": [
    {
      "cell_type": "markdown",
      "metadata": {
        "id": "view-in-github",
        "colab_type": "text"
      },
      "source": [
        "<a href=\"https://colab.research.google.com/github/projet-ML/COVID/blob/master/SIR.ipynb\" target=\"_parent\"><img src=\"https://colab.research.google.com/assets/colab-badge.svg\" alt=\"Open In Colab\"/></a>"
      ]
    },
    {
      "cell_type": "code",
      "metadata": {
        "id": "8SB5j9IHlw9Y",
        "colab_type": "code",
        "colab": {}
      },
      "source": [
        "Imports needed: \n",
        "from scipy.integrate import odeint\n",
        "import numpy as np\n",
        "import matplotlib.pyplot as plt\n",
        "%matplotlib inline"
      ],
      "execution_count": 0,
      "outputs": []
    },
    {
      "cell_type": "code",
      "metadata": {
        "id": "IlqaYIzyl-Go",
        "colab_type": "code",
        "colab": {}
      },
      "source": [
        "def deriv(y, t, N, beta, gamma, delta):\n",
        "    S, E, I, R = y\n",
        "    dSdt = -beta * S * I / N\n",
        "    dEdt = beta * S * I / N - delta * E\n",
        "    dIdt = delta * E - gamma * I\n",
        "    dRdt = gamma * I\n",
        "    return dSdt, dEdt, dIdt, dRdt"
      ],
      "execution_count": 0,
      "outputs": []
    },
    {
      "cell_type": "code",
      "metadata": {
        "id": "3r6JXf-6mMar",
        "colab_type": "code",
        "colab": {}
      },
      "source": [
        "N = 1000\n",
        "beta = 1.0  # infected person infects 1 other person per day\n",
        "D = 4.0 # infections lasts four days\n",
        "gamma = 1.0 / D\n",
        "delta = 1.0 / 3.0  # incubation period of three days\n",
        "\n",
        "S0, E0, I0, R0 = 999, 1, 0, 0  # initial conditions: one exposed, rest susceptible"
      ],
      "execution_count": 0,
      "outputs": []
    },
    {
      "cell_type": "code",
      "metadata": {
        "id": "Uo1WGmpGmQjd",
        "colab_type": "code",
        "colab": {}
      },
      "source": [
        "t = np.linspace(0, 100, 100) # Grid of time points (in days)\n",
        "y0 = S0, E0, I0, R0 # Initial conditions vector\n",
        "\n",
        "# Integrate the SIR equations over the time grid, t.\n",
        "ret = odeint(deriv, y0, t, args=(N, beta, gamma, delta))\n",
        "S, E, I, R = ret.T"
      ],
      "execution_count": 0,
      "outputs": []
    },
    {
      "cell_type": "code",
      "metadata": {
        "id": "3zBOWvokmVhY",
        "colab_type": "code",
        "colab": {}
      },
      "source": [
        "def deriv(y, t, N, beta, gamma, delta, alpha, rho):\n",
        "    S, E, I, R, D = y\n",
        "    dSdt = -beta * S * I / N\n",
        "    dEdt = beta * S * I / N - delta * E\n",
        "    dIdt = delta * E - (1 - alpha) * gamma * I - alpha * rho * I\n",
        "    dRdt = (1 - alpha) * gamma * I\n",
        "    dDdt = alpha * rho * I\n",
        "    return dSdt, dEdt, dIdt, dRdt, dDdt"
      ],
      "execution_count": 0,
      "outputs": []
    },
    {
      "cell_type": "code",
      "metadata": {
        "id": "4XqfzXq6ma9p",
        "colab_type": "code",
        "colab": {}
      },
      "source": [
        "N = 1_000_000\n",
        "D = 4.0 # infections lasts four days\n",
        "gamma = 1.0 / D\n",
        "delta = 1.0 / 5.0  # incubation period of five days\n",
        "R_0 = 5.0\n",
        "beta = R_0 * gamma  # R_0 = beta / gamma, so beta = R_0 * gamma\n",
        "alpha = 0.2  # 10% death rate\n",
        "rho = 1/9  # 9 days from infection until death\n",
        "S0, E0, I0, R0, D0 = N-1, 1, 0, 0, 0  # initial conditions: one exposed"
      ],
      "execution_count": 0,
      "outputs": []
    },
    {
      "cell_type": "code",
      "metadata": {
        "id": "Ywi4LLbGmdne",
        "colab_type": "code",
        "colab": {}
      },
      "source": [
        "t = np.linspace(0, 100, 100) # Grid of time points (in days)\n",
        "y0 = S0, E0, I0, R0, D0 # Initial conditions vector\n",
        "\n",
        "# Integrate the SIR equations over the time grid, t.\n",
        "ret = odeint(deriv, y0, t, args=(N, beta, gamma, delta, alpha, rho))\n",
        "S, E, I, R, D = ret.T"
      ],
      "execution_count": 0,
      "outputs": []
    },
    {
      "cell_type": "code",
      "metadata": {
        "id": "mRK5zICqmnlc",
        "colab_type": "code",
        "colab": {}
      },
      "source": [
        "def plotseird(t, S, E, I, R, D):\n",
        "  f, ax = plt.subplots(1,1,figsize=(10,4))\n",
        "  ax.plot(t, S, 'b', alpha=0.7, linewidth=2, label='Susceptible')\n",
        "  ax.plot(t, E, 'y', alpha=0.7, linewidth=2, label='Exposed')\n",
        "  ax.plot(t, I, 'r', alpha=0.7, linewidth=2, label='Infected')\n",
        "  ax.plot(t, R, 'g', alpha=0.7, linewidth=2, label='Recovered')\n",
        "  ax.plot(t, D, 'k', alpha=0.7, linewidth=2, label='Dead')\n",
        "  ax.plot(t, S+E+I+R+D, 'c--', alpha=0.7, linewidth=2, label='Total')\n",
        "\n",
        "  ax.set_xlabel('Time (days)')\n",
        "\n",
        "  ax.yaxis.set_tick_params(length=0)\n",
        "  ax.xaxis.set_tick_params(length=0)\n",
        "  ax.grid(b=True, which='major', c='w', lw=2, ls='-')\n",
        "  legend = ax.legend()\n",
        "  legend.get_frame().set_alpha(0.5)\n",
        "  for spine in ('top', 'right', 'bottom', 'left'):\n",
        "      ax.spines[spine].set_visible(False)\n",
        "  plt.show();"
      ],
      "execution_count": 0,
      "outputs": []
    },
    {
      "cell_type": "code",
      "metadata": {
        "id": "Xqlt_Kb5mqGE",
        "colab_type": "code",
        "colab": {}
      },
      "source": [
        "plotseird(t, S, E, I, R, D)"
      ],
      "execution_count": 0,
      "outputs": []
    },
    {
      "cell_type": "code",
      "metadata": {
        "id": "7MyhMUkMmtAZ",
        "colab_type": "code",
        "colab": {}
      },
      "source": [
        "def R_0(t):\n",
        "    return 5.0 if t < L else 0.9"
      ],
      "execution_count": 0,
      "outputs": []
    },
    {
      "cell_type": "code",
      "metadata": {
        "id": "yJwGiUS9mtq7",
        "colab_type": "code",
        "colab": {}
      },
      "source": [
        "def beta(t):\n",
        "    return R_0(t) * gamma"
      ],
      "execution_count": 0,
      "outputs": []
    },
    {
      "cell_type": "code",
      "metadata": {
        "id": "1LzKkywxmvfv",
        "colab_type": "code",
        "colab": {}
      },
      "source": [
        "def deriv(y, t, N, beta, gamma, delta, alpha, rho):\n",
        "    S, E, I, R, D = y\n",
        "    dSdt = -beta(t) * S * I / N\n",
        "    dEdt = beta(t) * S * I / N - delta * E\n",
        "    dIdt = delta * E - (1 - alpha) * gamma * I - alpha * rho * I\n",
        "    dRdt = (1 - alpha) * gamma * I\n",
        "    dDdt = alpha * rho * I\n",
        "    return dSdt, dEdt, dIdt, dRdt, dDdt"
      ],
      "execution_count": 0,
      "outputs": []
    },
    {
      "cell_type": "code",
      "metadata": {
        "id": "GiCUaKMCmyW9",
        "colab_type": "code",
        "colab": {}
      },
      "source": [
        "L = 100"
      ],
      "execution_count": 0,
      "outputs": []
    },
    {
      "cell_type": "code",
      "metadata": {
        "id": "Us0VLCZGm0bQ",
        "colab_type": "code",
        "colab": {}
      },
      "source": [
        "N = 1_000_000\n",
        "D = 4.0 # infections lasts four days\n",
        "gamma = 1.0 / D\n",
        "delta = 1.0 / 5.0  # incubation period of five days\n",
        "def R_0(t):\n",
        "    return 5.0 if t < L else 0.9\n",
        "def beta(t):\n",
        "    return R_0(t) * gamma\n",
        "\n",
        "alpha = 0.2  # 20% death rate\n",
        "rho = 1/9  # 9 days from infection until death\n",
        "S0, E0, I0, R0, D0 = N-1, 1, 0, 0, 0  # initial conditions: one exposed"
      ],
      "execution_count": 0,
      "outputs": []
    },
    {
      "cell_type": "code",
      "metadata": {
        "id": "IBdz2qYHm275",
        "colab_type": "code",
        "colab": {}
      },
      "source": [
        "t = np.linspace(0, 100, 100) # Grid of time points (in days)\n",
        "y0 = S0, E0, I0, R0, D0 # Initial conditions vector\n",
        "\n",
        "# Integrate the SIR equations over the time grid, t.\n",
        "ret = odeint(deriv, y0, t, args=(N, beta, gamma, delta, alpha, rho))\n",
        "S, E, I, R, D = ret.T"
      ],
      "execution_count": 0,
      "outputs": []
    },
    {
      "cell_type": "code",
      "metadata": {
        "id": "F04A-Rb0nHs1",
        "colab_type": "code",
        "colab": {}
      },
      "source": [
        "plotseird(t, S, E, I, R, D)"
      ],
      "execution_count": 0,
      "outputs": []
    },
    {
      "cell_type": "code",
      "metadata": {
        "id": "7-ywNx_CnLof",
        "colab_type": "code",
        "colab": {}
      },
      "source": [
        "def deriv(y, t, N, beta, gamma, delta, alpha, rho):\n",
        "    S, E, I, R, D = y\n",
        "    dSdt = -beta(t) * S * I / N\n",
        "    dEdt = beta(t) * S * I / N - delta * E\n",
        "    dIdt = delta * E - (1 - alpha) * gamma * I - alpha * rho * I\n",
        "    dRdt = (1 - alpha) * gamma * I\n",
        "    dDdt = alpha * rho * I\n",
        "    return dSdt, dEdt, dIdt, dRdt, dDdt"
      ],
      "execution_count": 0,
      "outputs": []
    },
    {
      "cell_type": "code",
      "metadata": {
        "id": "1yYd2sdqnOMR",
        "colab_type": "code",
        "colab": {}
      },
      "source": [
        "N = 1_000_000\n",
        "D = 4.0 # infections lasts four days\n",
        "gamma = 1.0 / D\n",
        "delta = 1.0 / 5.0  # incubation period of five days\n",
        "\n",
        "R_0_start, k, x0, R_0_end = 5.0, 0.5, 50, 0.5\n",
        "\n",
        "def logistic_R_0(t):\n",
        "    return (R_0_start-R_0_end) / (1 + np.exp(-k*(-t+x0))) + R_0_end\n",
        "\n",
        "def beta(t):\n",
        "    return logistic_R_0(t) * gamma\n",
        "\n",
        "alpha = 0.2  # 20% death rate\n",
        "rho = 1/9  # 9 days from infection until death\n",
        "S0, E0, I0, R0, D0 = N-1, 1, 0, 0, 0  # initial conditions: one exposed"
      ],
      "execution_count": 0,
      "outputs": []
    },
    {
      "cell_type": "code",
      "metadata": {
        "id": "xs9REr7RnU0k",
        "colab_type": "code",
        "colab": {}
      },
      "source": [
        "t = np.linspace(0, 100, 100) # Grid of time points (in days)\n",
        "y0 = S0, E0, I0, R0, D0 # Initial conditions vector\n",
        "\n",
        "# Integrate the SIR equations over the time grid, t.\n",
        "ret = odeint(deriv, y0, t, args=(N, beta, gamma, delta, alpha, rho))\n",
        "S, E, I, R, D = ret.T\n",
        "R0_over_time = [logistic_R_0(i) for i in range(len(t))]  # to plot R_0 over time: get function values"
      ],
      "execution_count": 0,
      "outputs": []
    },
    {
      "cell_type": "code",
      "metadata": {
        "id": "h4Fz2kA0nXv9",
        "colab_type": "code",
        "colab": {}
      },
      "source": [
        "alpha_by_agegroup = {\n",
        "    \"0-29\": 0.01, \"30-59\": 0.05, \"60-89\": 0.20, \"89+\": 0.30\n",
        "}\n",
        "proportion_of_agegroup = {\n",
        "    \"0-29\": 0.1, \"30-59\": 0.3, \"60-89\": 0.4, \"89+\": 0.2\n",
        "}"
      ],
      "execution_count": 0,
      "outputs": []
    },
    {
      "cell_type": "code",
      "metadata": {
        "id": "eQEAfnv2navp",
        "colab_type": "code",
        "colab": {}
      },
      "source": [
        "alpha = sum(alpha_by_agegroup[i] * proportion_of_agegroup[i] \n",
        "            for i in list(alpha_by_agegroup.keys()))"
      ],
      "execution_count": 0,
      "outputs": []
    },
    {
      "cell_type": "code",
      "metadata": {
        "id": "w5Af9eoBnck8",
        "colab_type": "code",
        "colab": {}
      },
      "source": [
        "proportion_of_agegroup = {\n",
        "    \"0-29\": 0.4, \"30-59\": 0.4, \"60-89\": 0.1, \"89+\": 0.1\n",
        "}"
      ],
      "execution_count": 0,
      "outputs": []
    },
    {
      "cell_type": "code",
      "metadata": {
        "id": "obEQiuemne87",
        "colab_type": "code",
        "colab": {}
      },
      "source": [
        "def deriv(y, t, N, beta, gamma, delta, alpha_opt, rho):\n",
        "    S, E, I, R, D = y\n",
        "    def alpha(t):\n",
        "        return s * I/N + alpha_opt\n",
        "\n",
        "    dSdt = -beta(t) * S * I / N\n",
        "    dEdt = beta(t) * S * I / N - delta * E\n",
        "    dIdt = delta * E - (1 - alpha(t)) * gamma * I - alpha(t) * rho * I\n",
        "    dRdt = (1 - alpha(t)) * gamma * I\n",
        "    dDdt = alpha(t) * rho * I\n",
        "    return dSdt, dEdt, dIdt, dRdt, dDdt"
      ],
      "execution_count": 0,
      "outputs": []
    },
    {
      "cell_type": "code",
      "metadata": {
        "id": "Fjoz7eI5nhmx",
        "colab_type": "code",
        "colab": {}
      },
      "source": [
        "N = 1_000_000\n",
        "D = 4.0 # infections lasts four days\n",
        "gamma = 1.0 / D\n",
        "delta = 1.0 / 5.0  # incubation period of five days\n",
        "\n",
        "R_0_start, k, x0, R_0_end = 5.0, 0.5, 50, 0.5\n",
        "\n",
        "def logistic_R_0(t):\n",
        "    return (R_0_start-R_0_end) / (1 + np.exp(-k*(-t+x0))) + R_0_end\n",
        "\n",
        "def beta(t):\n",
        "    return logistic_R_0(t) * gamma\n",
        "\n",
        "alpha_by_agegroup = {\"0-29\": 0.01, \"30-59\": 0.05, \"60-89\": 0.2, \"89+\": 0.3}\n",
        "proportion_of_agegroup = {\"0-29\": 0.1, \"30-59\": 0.3, \"60-89\": 0.4, \"89+\": 0.2}\n",
        "s = 1.0\n",
        "alpha_opt = sum(alpha_by_agegroup[i] * proportion_of_agegroup[i] for i in list(alpha_by_agegroup.keys()))\n",
        "\n",
        "rho = 1/9  # 9 days from infection until death\n",
        "S0, E0, I0, R0, D0 = N-1, 1, 0, 0, 0  # initial conditions: one exposed"
      ],
      "execution_count": 0,
      "outputs": []
    },
    {
      "cell_type": "code",
      "metadata": {
        "id": "EfHjDgX7nk3r",
        "colab_type": "code",
        "colab": {}
      },
      "source": [
        "t = np.linspace(0, 100, 100) # Grid of time points (in days)\n",
        "y0 = S0, E0, I0, R0, D0 # Initial conditions vector\n",
        "\n",
        "# Integrate the SIR equations over the time grid, t.\n",
        "ret = odeint(deriv, y0, t, args=(N, beta, gamma, delta, alpha_opt, rho))\n",
        "S, E, I, R, D = ret.T\n",
        "R0_over_time = [logistic_R_0(i) for i in range(len(t))]  # to plot R_0 over time: get function values\n",
        "Alpha_over_time = [s * I[i]/N + alpha_opt for i in range(len(t))]  # to plot alpha over time"
      ],
      "execution_count": 0,
      "outputs": []
    },
    {
      "cell_type": "code",
      "metadata": {
        "id": "8nAuQZopnmnw",
        "colab_type": "code",
        "colab": {}
      },
      "source": [
        "plotseird(t, S, E, I, R, D, R0=R0_over_time, Alpha=Alpha_over_time)"
      ],
      "execution_count": 0,
      "outputs": []
    }
  ]
}